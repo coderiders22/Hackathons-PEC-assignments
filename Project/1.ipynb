{
 "cells": [
  {
   "cell_type": "code",
   "execution_count": 75,
   "metadata": {},
   "outputs": [],
   "source": [
    "# importing librarries \n",
    "import pandas as pd\n",
    "import matplotlib.pyplot as plt\n",
    "import seaborn as sns"
   ]
  },
  {
   "cell_type": "code",
   "execution_count": 76,
   "metadata": {},
   "outputs": [],
   "source": [
    "# python code to read csv file\n",
    "\n",
    "data=pd.read_csv(\"Salary Dataset.csv\")"
   ]
  },
  {
   "cell_type": "code",
   "execution_count": 77,
   "metadata": {},
   "outputs": [
    {
     "name": "stdout",
     "output_type": "stream",
     "text": [
      "                Company Name       Job Title  Salaries Reported   Location  \\\n",
      "0                   Mu Sigma  Data Scientist              105.0  Bangalore   \n",
      "1                        IBM  Data Scientist               95.0  Bangalore   \n",
      "2  Tata Consultancy Services  Data Scientist               66.0  Bangalore   \n",
      "3           Impact Analytics  Data Scientist               40.0  Bangalore   \n",
      "4                  Accenture  Data Scientist               32.0  Bangalore   \n",
      "\n",
      "          Salary  \n",
      "0   ₹6,48,573/yr  \n",
      "1  ₹11,91,950/yr  \n",
      "2   ₹8,36,874/yr  \n",
      "3   ₹6,69,578/yr  \n",
      "4   ₹9,44,110/yr  \n",
      "<class 'pandas.core.frame.DataFrame'>\n",
      "RangeIndex: 4344 entries, 0 to 4343\n",
      "Data columns (total 5 columns):\n",
      " #   Column             Non-Null Count  Dtype  \n",
      "---  ------             --------------  -----  \n",
      " 0   Company Name       4341 non-null   object \n",
      " 1   Job Title          4344 non-null   object \n",
      " 2   Salaries Reported  4342 non-null   float64\n",
      " 3   Location           4344 non-null   object \n",
      " 4   Salary             4344 non-null   object \n",
      "dtypes: float64(1), object(4)\n",
      "memory usage: 169.8+ KB\n",
      "None\n",
      "       Salaries Reported\n",
      "count        4342.000000\n",
      "mean            2.775910\n",
      "std             5.146527\n",
      "min             1.000000\n",
      "25%             1.000000\n",
      "50%             1.000000\n",
      "75%             3.000000\n",
      "max           105.000000\n"
     ]
    }
   ],
   "source": [
    "print(data.head())\n",
    "print(data.info())\n",
    "print(data.describe())"
   ]
  },
  {
   "cell_type": "code",
   "execution_count": 78,
   "metadata": {},
   "outputs": [
    {
     "name": "stdout",
     "output_type": "stream",
     "text": [
      "Missing values: \\      Company Name  Job Title  Salaries Reported  Location  Salary\n",
      "0            False      False              False     False   False\n",
      "1            False      False              False     False   False\n",
      "2            False      False              False     False   False\n",
      "3            False      False              False     False   False\n",
      "4            False      False              False     False   False\n",
      "...            ...        ...                ...       ...     ...\n",
      "4339         False      False              False     False   False\n",
      "4340         False      False              False     False   False\n",
      "4341         False      False              False     False   False\n",
      "4342         False      False              False     False   False\n",
      "4343         False      False              False     False   False\n",
      "\n",
      "[4344 rows x 5 columns]\n"
     ]
    }
   ],
   "source": [
    "# detecting missing values\n",
    "no_values=data.isnull()\n",
    "print(f\"Missing values: \\{no_values}\")"
   ]
  },
  {
   "cell_type": "code",
   "execution_count": 79,
   "metadata": {},
   "outputs": [
    {
     "name": "stdout",
     "output_type": "stream",
     "text": [
      "Company Name         3\n",
      "Job Title            0\n",
      "Salaries Reported    2\n",
      "Location             0\n",
      "Salary               0\n",
      "dtype: int64\n"
     ]
    }
   ],
   "source": [
    "# detecting total missing values in column\n",
    "number_of_no_values=no_values.sum()\n",
    "print(f\"{number_of_no_values}\")\n",
    "# data.corr()"
   ]
  },
  {
   "cell_type": "code",
   "execution_count": 80,
   "metadata": {},
   "outputs": [
    {
     "name": "stdout",
     "output_type": "stream",
     "text": [
      "                   Company Name                             Job Title  \\\n",
      "0                      Mu Sigma                        Data Scientist   \n",
      "1                           IBM                        Data Scientist   \n",
      "2     Tata Consultancy Services                        Data Scientist   \n",
      "3              Impact Analytics                        Data Scientist   \n",
      "4                     Accenture                        Data Scientist   \n",
      "...                         ...                                   ...   \n",
      "4339                    TaiyōAI            Machine Learning Scientist   \n",
      "4340    Decimal Point Analytics            Machine Learning Developer   \n",
      "4341                     MyWays            Machine Learning Developer   \n",
      "4342  Market Pulse Technologies  Software Engineer - Machine Learning   \n",
      "4343                    vPhrase             Machine Learning Engineer   \n",
      "\n",
      "      Salaries Reported   Location         Salary  \n",
      "0                 105.0  Bangalore   ₹6,48,573/yr  \n",
      "1                  95.0  Bangalore  ₹11,91,950/yr  \n",
      "2                  66.0  Bangalore   ₹8,36,874/yr  \n",
      "3                  40.0  Bangalore   ₹6,69,578/yr  \n",
      "4                  32.0  Bangalore   ₹9,44,110/yr  \n",
      "...                 ...        ...            ...  \n",
      "4339                1.0     Mumbai      ₹5,180/mo  \n",
      "4340                1.0     Mumbai   ₹7,51,286/yr  \n",
      "4341                1.0     Mumbai   ₹4,10,952/yr  \n",
      "4342                1.0     Mumbai  ₹16,12,324/yr  \n",
      "4343                1.0     Mumbai   ₹9,39,843/yr  \n",
      "\n",
      "[4339 rows x 5 columns]\n"
     ]
    }
   ],
   "source": [
    "# as missing values are very less, we can remove that certain columns\n",
    "data.dropna(inplace=True)\n",
    "print(data)"
   ]
  },
  {
   "cell_type": "code",
   "execution_count": 82,
   "metadata": {},
   "outputs": [
    {
     "data": {
      "text/plain": [
       "0"
      ]
     },
     "execution_count": 82,
     "metadata": {},
     "output_type": "execute_result"
    }
   ],
   "source": [
    "repeated=data.duplicated()\n",
    "\n",
    "# for duplicate rows\n",
    "repeated_rows=repeated[repeated]\n",
    "\n",
    "# number of duplicated values \n",
    "number_of_duplicates=repeated.sum()\n",
    "\n",
    "print(repeated)\n",
    "print(repeated_rows)\n",
    "print(number_of_duplicates)\n",
    "\n"
   ]
  },
  {
   "cell_type": "code",
   "execution_count": null,
   "metadata": {},
   "outputs": [],
   "source": [
    "# removing outliers"
   ]
  }
 ],
 "metadata": {
  "kernelspec": {
   "display_name": "Python 3",
   "language": "python",
   "name": "python3"
  },
  "language_info": {
   "codemirror_mode": {
    "name": "ipython",
    "version": 3
   },
   "file_extension": ".py",
   "mimetype": "text/x-python",
   "name": "python",
   "nbconvert_exporter": "python",
   "pygments_lexer": "ipython3",
   "version": "3.11.4"
  }
 },
 "nbformat": 4,
 "nbformat_minor": 2
}
